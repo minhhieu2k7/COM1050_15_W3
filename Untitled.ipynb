{
 "cells": [
  {
   "cell_type": "code",
   "execution_count": 5,
   "id": "8103411d-8d0d-4747-a222-a05e92a60cc9",
   "metadata": {},
   "outputs": [
    {
     "name": "stdin",
     "output_type": "stream",
     "text": [
      " 3 5\n"
     ]
    },
    {
     "name": "stdout",
     "output_type": "stream",
     "text": [
      "giá trị hoán đổi của a: 5, b: 3\n"
     ]
    }
   ],
   "source": [
    "# hoán đổi giá trị a và b bằng XOR\n",
    "#bài 2\n",
    "a, b = map(int,input().split())\n",
    "print(f\"giá trị ban đầu của a: {a}, b: {b}\")\n",
    "a = a^b\n",
    "b = a^b\n",
    "a = a^b\n",
    "print(f\"giá trị hoán đổi của a: {a}, b: {b}\")"
   ]
  },
  {
   "cell_type": "code",
   "execution_count": 10,
   "id": "5983c31e-29ea-4148-a437-011611e4a1b8",
   "metadata": {},
   "outputs": [
    {
     "data": {
      "text/plain": [
       "True"
      ]
     },
     "execution_count": 10,
     "metadata": {},
     "output_type": "execute_result"
    }
   ],
   "source": [
    "# bài 3\n",
    "a= 8\n",
    "a & (a-1) == 0"
   ]
  },
  {
   "cell_type": "code",
   "execution_count": 21,
   "id": "0c1c825b-6189-4e0d-b5d6-246e8321f5d8",
   "metadata": {},
   "outputs": [
    {
     "name": "stdin",
     "output_type": "stream",
     "text": [
      " 4\n"
     ]
    },
    {
     "name": "stdout",
     "output_type": "stream",
     "text": [
      "kết quả khi chia cho 4: 1, chia cho 3: 1\n"
     ]
    }
   ],
   "source": [
    "#bài 4\n",
    "import math\n",
    "a = int(input())\n",
    "m = 4\n",
    "n = 3\n",
    "b = math.floor(a / m)\n",
    "c = math.floor(a / n)\n",
    "print(f\"kết quả khi chia cho 4: {b}, chia cho 3: {c}\")\n",
    "# làm tròn lên(ceil()), làm tròn xuống (floor())"
   ]
  },
  {
   "cell_type": "code",
   "execution_count": null,
   "id": "5ac513e6-fbdc-4899-b3d1-8b2641aea3c0",
   "metadata": {},
   "outputs": [],
   "source": [
    "#bài 5\n",
    "import math\n",
    "a = int(input())\n",
    "m = 4\n",
    "n = 3\n",
    "b = math.ceil(a / m)\n",
    "c = math.ceil(a / n)\n",
    "print(f\"kết quả khi chia cho 4: {b}, chia cho 3: {c}\")"
   ]
  }
 ],
 "metadata": {
  "kernelspec": {
   "display_name": "Python 3 (ipykernel)",
   "language": "python",
   "name": "python3"
  },
  "language_info": {
   "codemirror_mode": {
    "name": "ipython",
    "version": 3
   },
   "file_extension": ".py",
   "mimetype": "text/x-python",
   "name": "python",
   "nbconvert_exporter": "python",
   "pygments_lexer": "ipython3",
   "version": "3.12.7"
  }
 },
 "nbformat": 4,
 "nbformat_minor": 5
}
