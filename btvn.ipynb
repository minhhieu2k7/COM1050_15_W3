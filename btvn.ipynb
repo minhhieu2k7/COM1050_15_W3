{
 "cells": [
  {
   "cell_type": "code",
   "execution_count": 1,
   "id": "8103411d-8d0d-4747-a222-a05e92a60cc9",
   "metadata": {},
   "outputs": [
    {
     "name": "stdin",
     "output_type": "stream",
     "text": [
      " 3 4\n"
     ]
    },
    {
     "name": "stdout",
     "output_type": "stream",
     "text": [
      "giá trị ban đầu của a: 3, b: 4\n",
      "giá trị hoán đổi của a: 4, b: 3\n"
     ]
    }
   ],
   "source": [
    "# hoán đổi giá trị a và b bằng XOR\n",
    "#bài 2\n",
    "a, b = map(int,input().split())\n",
    "print(f\"giá trị ban đầu của a: {a}, b: {b}\")\n",
    "a = a^b\n",
    "b = a^b\n",
    "a = a^b\n",
    "print(f\"giá trị hoán đổi của a: {a}, b: {b}\")"
   ]
  },
  {
   "cell_type": "code",
   "execution_count": 10,
   "id": "5983c31e-29ea-4148-a437-011611e4a1b8",
   "metadata": {},
   "outputs": [
    {
     "data": {
      "text/plain": [
       "True"
      ]
     },
     "execution_count": 10,
     "metadata": {},
     "output_type": "execute_result"
    }
   ],
   "source": [
    "# bài 3\n",
    "a= 8\n",
    "a & (a-1) == 0"
   ]
  },
  {
   "cell_type": "code",
   "execution_count": 21,
   "id": "0c1c825b-6189-4e0d-b5d6-246e8321f5d8",
   "metadata": {},
   "outputs": [
    {
     "name": "stdin",
     "output_type": "stream",
     "text": [
      " 4\n"
     ]
    },
    {
     "name": "stdout",
     "output_type": "stream",
     "text": [
      "kết quả khi chia cho 4: 1, chia cho 3: 1\n"
     ]
    }
   ],
   "source": [
    "#bài 4\n",
    "import math\n",
    "a = int(input())\n",
    "m = 4\n",
    "n = 3\n",
    "b = math.floor(a / m)\n",
    "c = math.floor(a / n)\n",
    "print(f\"kết quả khi chia cho 4: {b}, chia cho 3: {c}\")\n",
    "# làm tròn lên(ceil()), làm tròn xuống (floor())"
   ]
  },
  {
   "cell_type": "code",
   "execution_count": null,
   "id": "5ac513e6-fbdc-4899-b3d1-8b2641aea3c0",
   "metadata": {},
   "outputs": [],
   "source": [
    "#bài 5\n",
    "import math\n",
    "a = int(input())\n",
    "m = 4\n",
    "n = 3\n",
    "b = math.ceil(a / m)\n",
    "c = math.ceil(a / n)\n",
    "print(f\"kết quả khi chia cho 4: {b}, chia cho 3: {c}\")"
   ]
  },
  {
   "cell_type": "code",
   "execution_count": 4,
   "id": "a245eee3-8ccb-46b1-852e-bd08d3f79adf",
   "metadata": {},
   "outputs": [
    {
     "name": "stdin",
     "output_type": "stream",
     "text": [
      " 4\n"
     ]
    },
    {
     "name": "stdout",
     "output_type": "stream",
     "text": [
      "Even\n"
     ]
    }
   ],
   "source": [
    "#bài 6\n",
    "a = float(input())\n",
    "if a % 2 == 0:\n",
    "    print(\"Even\")\n",
    "else:\n",
    "    print(\"Odd\")"
   ]
  },
  {
   "cell_type": "code",
   "execution_count": 30,
   "id": "06026198-2f28-44c4-bfda-1cf575cbea23",
   "metadata": {},
   "outputs": [
    {
     "name": "stdin",
     "output_type": "stream",
     "text": [
      " 3 4\n"
     ]
    },
    {
     "name": "stdout",
     "output_type": "stream",
     "text": [
      "No\n"
     ]
    }
   ],
   "source": [
    "#bài 7\n",
    "a, b = map(int,input().split())\n",
    "c = a*b\n",
    "if c < 0:\n",
    "    print(\"Không xác định\")\n",
    "else:\n",
    "    if a < 0 and b < 0:\n",
    "        print(\"Yes\")\n",
    "    else:\n",
    "        print(\"No\")"
   ]
  },
  {
   "cell_type": "code",
   "execution_count": 20,
   "id": "9afc9c22-e5c4-4acb-b4b3-57e562915611",
   "metadata": {},
   "outputs": [
    {
     "name": "stdin",
     "output_type": "stream",
     "text": [
      " ryeuyrrui erriidjfhaasfdasd\n"
     ]
    },
    {
     "name": "stdout",
     "output_type": "stream",
     "text": [
      "False\n"
     ]
    }
   ],
   "source": [
    "#bài 8\n",
    "a, b = map(str,input().split())\n",
    "if len(a) > len(b):\n",
    "    print(\"True\")\n",
    "else:\n",
    "    print(\"False\")"
   ]
  },
  {
   "cell_type": "code",
   "execution_count": 24,
   "id": "7e5fdd67-fcf6-417d-a583-6226e5a71fd1",
   "metadata": {},
   "outputs": [
    {
     "name": "stdin",
     "output_type": "stream",
     "text": [
      " -3 4 5\n"
     ]
    },
    {
     "name": "stdout",
     "output_type": "stream",
     "text": [
      "No\n"
     ]
    }
   ],
   "source": [
    "#bài 9\n",
    "a, b, c = map(int,input().split())\n",
    "if a+b > c:\n",
    "    print(\"Yes\")\n",
    "else:\n",
    "    print(\"No\")"
   ]
  },
  {
   "cell_type": "code",
   "execution_count": 23,
   "id": "10250b80-fb91-4557-a4bd-1b65f7d86b18",
   "metadata": {},
   "outputs": [
    {
     "name": "stdin",
     "output_type": "stream",
     "text": [
      " 3 4 5 6\n"
     ]
    },
    {
     "name": "stdout",
     "output_type": "stream",
     "text": [
      "6\n"
     ]
    }
   ],
   "source": [
    "#bài 10\n",
    "a, b, c, d = map(int,input().split())\n",
    "print(max(a, b, c, d))"
   ]
  },
  {
   "cell_type": "code",
   "execution_count": 28,
   "id": "2b46b189-ae1a-4cee-a676-6670e9609fc5",
   "metadata": {},
   "outputs": [
    {
     "name": "stdin",
     "output_type": "stream",
     "text": [
      " 3 4 5\n"
     ]
    },
    {
     "name": "stdout",
     "output_type": "stream",
     "text": [
      "Tam giác thường\n"
     ]
    }
   ],
   "source": [
    "#bài 11\n",
    "a, b, c =map(int,input().split())\n",
    "if a+b < c:\n",
    "    print(\"Không phải tam giác\")\n",
    "else:\n",
    "    if a == b == c:\n",
    "        print(\"Tam giác đều\")\n",
    "    elif a == b or a == c or b == c:\n",
    "        print(\"Tam giác cân\")\n",
    "    else:\n",
    "        print(\"Tam giác thường\")"
   ]
  },
  {
   "cell_type": "code",
   "execution_count": 38,
   "id": "ad119d03-983a-4ab2-a408-0dfa1732e095",
   "metadata": {},
   "outputs": [
    {
     "name": "stdin",
     "output_type": "stream",
     "text": [
      "Năm: 400\n"
     ]
    },
    {
     "name": "stdout",
     "output_type": "stream",
     "text": [
      "Yes\n"
     ]
    }
   ],
   "source": [
    "#bài 12\n",
    "n = float(input(\"Năm:\"))\n",
    "if n % 100 == 0:\n",
    "    if n % 400 != 0:\n",
    "        print(\"No\")\n",
    "    else:\n",
    "        print(\"Yes\")\n",
    "elif n % 4 == 0:\n",
    "    print(\"Yes\")\n",
    "else:\n",
    "    print(\"No\")"
   ]
  },
  {
   "cell_type": "code",
   "execution_count": 55,
   "id": "5312793f-5e23-40ee-a54a-17615f05f1c3",
   "metadata": {},
   "outputs": [
    {
     "name": "stdin",
     "output_type": "stream",
     "text": [
      " 3 1\n"
     ]
    },
    {
     "name": "stdout",
     "output_type": "stream",
     "text": [
      "-0.33\n"
     ]
    }
   ],
   "source": [
    "#bài 14\n",
    "a, b = map(int,input().split())\n",
    "if a != 0 and b != 0:\n",
    "    x = round(-b / a, 2)\n",
    "    print(x)\n",
    "else:\n",
    "    if a == 0:\n",
    "        print(\"Vô nghiệm\")\n",
    "    else:\n",
    "        print(\"Vô số nghiệm\")"
   ]
  },
  {
   "cell_type": "code",
   "execution_count": 47,
   "id": "d999ca7f-35bb-4a43-b9c8-2d5a32e75cca",
   "metadata": {},
   "outputs": [
    {
     "name": "stdin",
     "output_type": "stream",
     "text": [
      "Điểm trung bình: 11\n"
     ]
    },
    {
     "name": "stdout",
     "output_type": "stream",
     "text": [
      "lỗi\n"
     ]
    }
   ],
   "source": [
    "#bài 15\n",
    "a = float(input(\"Điểm trung bình:\"))\n",
    "if a < 0 or a > 10:\n",
    "    print(\"lỗi\")\n",
    "else:\n",
    "    if a >= 8:\n",
    "        print(\"Học lực giỏi\")\n",
    "    elif a >= 6.5:\n",
    "        print(\"Học lực khá\")\n",
    "    elif a >= 5:\n",
    "        print(\"Học lực trung bình\")\n",
    "    else:\n",
    "        print(\"Học lực yếu\")"
   ]
  },
  {
   "cell_type": "code",
   "execution_count": 59,
   "id": "d8121339-ef7d-4506-a165-94460f8ceec1",
   "metadata": {},
   "outputs": [
    {
     "name": "stdin",
     "output_type": "stream",
     "text": [
      " 3.456\n"
     ]
    },
    {
     "name": "stdout",
     "output_type": "stream",
     "text": [
      "4.0 3.0 3.0\n"
     ]
    }
   ],
   "source": [
    "#bài 16\n",
    "a = float(input())\n",
    "b = a // 1\n",
    "c = (a // 1) + 1\n",
    "print(c, b, end = (\" \") )\n",
    "if a % 1 <= 0.5:\n",
    "    a = a // 1\n",
    "    print(a)\n",
    "else:\n",
    "    a = (a // 1) +1\n",
    "    print(a)"
   ]
  },
  {
   "cell_type": "code",
   "execution_count": 63,
   "id": "75d41e3b-55a1-47ac-b698-84c89aba6e6e",
   "metadata": {},
   "outputs": [
    {
     "name": "stdout",
     "output_type": "stream",
     "text": [
      "No\n"
     ]
    }
   ],
   "source": [
    "#bài 17\n",
    "a, b, c, d = 2, 4, 5, 16\n",
    "e = b/a\n",
    "if e % 1 != 0:\n",
    "    print(\"No\")\n",
    "else:\n",
    "    if c == b * e and d ==c * e:\n",
    "        print(\"Yes\")\n",
    "    else:\n",
    "        print(\"No\")"
   ]
  },
  {
   "cell_type": "code",
   "execution_count": null,
   "id": "ca0860f7-5b08-4492-b8a9-63b719c8c2b9",
   "metadata": {},
   "outputs": [],
   "source": []
  }
 ],
 "metadata": {
  "kernelspec": {
   "display_name": "Python 3 (ipykernel)",
   "language": "python",
   "name": "python3"
  },
  "language_info": {
   "codemirror_mode": {
    "name": "ipython",
    "version": 3
   },
   "file_extension": ".py",
   "mimetype": "text/x-python",
   "name": "python",
   "nbconvert_exporter": "python",
   "pygments_lexer": "ipython3",
   "version": "3.12.7"
  }
 },
 "nbformat": 4,
 "nbformat_minor": 5
}
